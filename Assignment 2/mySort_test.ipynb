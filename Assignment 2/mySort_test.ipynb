{
  "cells": [
    {
      "cell_type": "code",
      "execution_count": null,
      "metadata": {
        "id": "A0vDPQxHkwg9"
      },
      "outputs": [
        {
          "ename": "",
          "evalue": "",
          "output_type": "error",
          "traceback": [
            "\u001b[1;31mRunning cells with 'Python 3.12.2' requires the ipykernel package.\n",
            "\u001b[1;31mRun the following command to install 'ipykernel' into the Python environment. \n",
            "\u001b[1;31mCommand: '/opt/homebrew/bin/python3 -m pip install ipykernel -U --user --force-reinstall'"
          ]
        }
      ],
      "source": [
        "\"\"\"\n",
        "We use `time` to meausre the time taken by each function.\n",
        "\"\"\"\n",
        "import time\n",
        "\n",
        "\"\"\"\n",
        "You can use Python's `ctypes` library to interface with the C shared library.\n",
        "This allows you to call functions from the shared library in Python.\n",
        "\n",
        "After compiling your C source code and creating `libmysort.so` shared lib with:\n",
        "`gcc -fPIC -shared -o libmysort.so mysort.c`,\n",
        "We will be able to load the shared library named `libmysort.so` in Python using\n",
        "`ctypes.CDLL` function.\n",
        "\n",
        "Ensure the shared library is in the same directory as the Python script or in a\n",
        "location where it can be found by the loader.\n",
        "\"\"\"\n",
        "import ctypes\n",
        "\n",
        "\"\"\"\n",
        "We use `numpy` library to create a manipulate multidimensional arrays.\n",
        "\"\"\"\n",
        "import numpy as np\n",
        "\n",
        "\"\"\"\n",
        "You can share the memory between Python and C directly using the ndpointer class\n",
        "from the numpy.ctypeslib module. This avoids copying the data and instead passes\n",
        "a pointer to the NumPy array’s underlying memory buffer. We will use `ndpointer`\n",
        "to specify the data type of inputs to the functions.\n",
        "\"\"\"\n",
        "from numpy.ctypeslib import ndpointer"
      ]
    },
    {
      "cell_type": "code",
      "execution_count": 35,
      "metadata": {
        "id": "d78YdcPVx7rh"
      },
      "outputs": [],
      "source": [
        "\"\"\"Path to the shared library on Google Drive. Mine is in this directory, you can\n",
        "change it based on your needs. If you are using your own OS, not colab, just use\n",
        "'./libmysort.so' if it is in the corrent directory.\n",
        "\"\"\"\n",
        "lib_path = '/content/drive/MyDrive/libmysort.so'\n",
        "\n",
        "# Load the shared library\n",
        "mySortLib = ctypes.CDLL(lib_path)\n",
        "\n",
        "# Define input argument types without conversion using ndpointer\n",
        "mySortLib.bubbleSort.argtypes = [ndpointer(ctypes.c_int, flags=\"C_CONTIGUOUS\"), ctypes.c_int]\n",
        "mySortLib.bubbleSort.restype = None\n",
        "\n",
        "\"\"\"\n",
        "CODE: do the same for insertion sort, merge sort, heap sort, and counting sort.\n",
        "\"\"\""
      ]
    },
    {
      "cell_type": "code",
      "execution_count": null,
      "metadata": {
        "colab": {
          "base_uri": "https://localhost:8080/"
        },
        "id": "C1_7sZXfk4l-",
        "outputId": "e343ffe5-e2e6-4067-9a16-e59a7fddd32e"
      },
      "outputs": [],
      "source": [
        "# Running a simple test\n",
        "arr0 = np.array([64, -134, -5, 0, 25, 12, 22, 11, 90], dtype=np.int32)\n",
        "n = len(arr0)\n",
        "print(\"Original array:\", arr0)\n",
        "\n",
        "# mySortLib.mergeSort(arr0, 0, n-1)\n",
        "mySortLib.countingSort(arr0, n)\n",
        "print(\"Sorted array using Bubble Sort:\", arr0)"
      ]
    },
    {
      "cell_type": "code",
      "execution_count": null,
      "metadata": {
        "colab": {
          "base_uri": "https://localhost:8080/"
        },
        "id": "WsqIeZURtUP5",
        "outputId": "9b4695f7-93ea-478d-9176-0e0439096e30"
      },
      "outputs": [],
      "source": [
        "# Creating a large test case\n",
        "arr = np.random.choice(np.arange(-1000000, 1000000, dtype=np.int32), size=500000, replace=False)\n",
        "n = len(arr)\n",
        "print(\"Original array:\", arr)"
      ]
    },
    {
      "cell_type": "code",
      "execution_count": null,
      "metadata": {
        "colab": {
          "base_uri": "https://localhost:8080/"
        },
        "id": "pPrsFng0yzNO",
        "outputId": "d595019f-bd45-459e-e2f5-2719bbaa8e06"
      },
      "outputs": [],
      "source": [
        "arr_copy = np.copy(arr)\n",
        "start = time.time()\n",
        "mySortLib.bubbleSort(arr_copy, n)\n",
        "end = time.time()\n",
        "print(\"Sorted array using Bubble Sort:\", arr_copy)\n",
        "print(f\"Time to convert: {end - start} seconds\")"
      ]
    },
    {
      "cell_type": "code",
      "execution_count": null,
      "metadata": {
        "colab": {
          "base_uri": "https://localhost:8080/",
          "height": 35
        },
        "id": "G9DN9z-6HR_I",
        "outputId": "814f06f1-0c1b-47ce-a76b-913c4fd58bec"
      },
      "outputs": [],
      "source": [
        "\"\"\"\n",
        "CODE: do the same for insertion sort, merge sort, heap sort, and counting sort.\n",
        "\"\"\""
      ]
    },
    {
      "cell_type": "code",
      "execution_count": null,
      "metadata": {
        "colab": {
          "base_uri": "https://localhost:8080/"
        },
        "id": "VKStSUINAFdb",
        "outputId": "41eeddef-4a12-42e4-85b5-446e0ef0d67f"
      },
      "outputs": [],
      "source": [
        "# Compare with built-in sort\n",
        "arr_copy = np.copy(arr)\n",
        "start = time.time()\n",
        "sorted_arr = sorted(arr_copy)  # Python's built-in sort\n",
        "end = time.time()\n",
        "print(\"Time taken by built-in sort:\", end - start, \"seconds\")\n"
      ]
    },
    {
      "cell_type": "code",
      "execution_count": null,
      "metadata": {
        "colab": {
          "base_uri": "https://localhost:8080/"
        },
        "id": "uQ3afi3nALYO",
        "outputId": "d87dfc5a-4852-4d64-b3a7-70f7fa8ca201"
      },
      "outputs": [],
      "source": [
        "# You can also use NumPy's np.sort(), which is highly optimized:\n",
        "arr_copy = np.copy(arr)\n",
        "start = time.time()\n",
        "np.sort(arr_copy)  # NumPy's optimized sort\n",
        "end = time.time()\n",
        "print(\"Time taken by NumPy sort:\", end - start, \"seconds\")"
      ]
    }
  ],
  "metadata": {
    "colab": {
      "provenance": []
    },
    "kernelspec": {
      "display_name": "Python 3",
      "name": "python3"
    },
    "language_info": {
      "name": "python",
      "version": "3.12.2"
    }
  },
  "nbformat": 4,
  "nbformat_minor": 0
}
